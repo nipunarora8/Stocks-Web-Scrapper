{
 "cells": [
  {
   "cell_type": "code",
   "execution_count": null,
   "metadata": {},
   "outputs": [],
   "source": [
    "#files to install\n",
    "\n",
    "# !pip install bs4\n",
    "# !pip install selenium\n",
    "# !pip install html5lib\n",
    "# !pip install "
   ]
  },
  {
   "cell_type": "code",
   "execution_count": null,
   "metadata": {},
   "outputs": [],
   "source": [
    "from selenium import webdriver\n",
    "import pandas as pd\n",
    "from datetime import date\n",
    "import numpy as np\n",
    "from bs4 import BeautifulSoup\n",
    "import time\n",
    "\n",
    "driver = webdriver.Firefox()\n",
    "# driver = webdriver.Chrome()\n",
    "\n",
    "driver.get(\"https://www.screener.in/login/\")"
   ]
  },
  {
   "cell_type": "code",
   "execution_count": null,
   "metadata": {},
   "outputs": [],
   "source": [
    "username = driver.find_element_by_id(\"id_username\")\n",
    "password = driver.find_element_by_id(\"id_password\")\n",
    "username.send_keys(\"****your-sceener-email-id********\")\n",
    "password.send_keys(\"*******your-screener-password*******\")\n",
    "driver.find_element_by_class_name(\"button-primary\").click()\n"
   ]
  },
  {
   "cell_type": "code",
   "execution_count": null,
   "metadata": {},
   "outputs": [],
   "source": [
    "driver.refresh()\n",
    "path = \"https://www.screener.in/company/\""
   ]
  },
  {
   "cell_type": "code",
   "execution_count": null,
   "metadata": {},
   "outputs": [],
   "source": [
    "file=open(\"stocks.txt\",'r')\n",
    "data=file.read().split('\\n')[:-1]\n",
    "dict_df={}\n",
    "for i in data:\n",
    "    new_path = path+i+'/consolidated/'\n",
    "    \n",
    "    driver.get(new_path)\n",
    "    time.sleep(2) #delay to let page open, increase for slower internet\n",
    "\n",
    "    r_new=driver.page_source.encode('utf-8')\n",
    "\n",
    "    soup = BeautifulSoup(r_new, 'html5lib')\n",
    "\n",
    "    table1=soup.find_all('li', attrs={'class':'four columns'})\n",
    "\n",
    "    list=[]\n",
    "    for n in range(len(table1)):\n",
    "        list.append(table1[n].text.replace('\\n',\"\").replace(\" \",\"\"))\n",
    "\n",
    "    list.remove('CompanyWebsite')\n",
    "    list.remove('ListedonBSEandNSE')\n",
    "\n",
    "    ratio=[]\n",
    "    value=[]\n",
    "    for j in list:\n",
    "        if j[:11]=='52weeksHigh':\n",
    "            continue\n",
    "        ratio.append(j.split(':')[0])\n",
    "        value.append(j.split(':')[1])\n",
    "    ratio= np.array(ratio)\n",
    "    value=np.array(value)\n",
    "\n",
    "    dict_df[i]=value\n",
    "    \n",
    "\n",
    "df=pd.DataFrame(dict_df.values(),columns=ratio,index=dict_df.keys())\n",
    "if \"excel\" not in os.listdir():\n",
    "    os.mkdir(\"excel\")\n",
    "    df.to_csv(\"excel/\"+str(date.today())+\".csv\")\n",
    "else:\n",
    "    df.to_csv(\"excel/\"+str(date.today())+\".csv\")\n",
    "driver.quit()\n",
    "print(\"File created with name: {}.csv\".format(str(date.today())))"
   ]
  }
 ],
 "metadata": {
  "kernelspec": {
   "display_name": "Python 3",
   "language": "python",
   "name": "python3"
  },
  "language_info": {
   "codemirror_mode": {
    "name": "ipython",
    "version": 3
   },
   "file_extension": ".py",
   "mimetype": "text/x-python",
   "name": "python",
   "nbconvert_exporter": "python",
   "pygments_lexer": "ipython3",
   "version": "3.7.3"
  }
 },
 "nbformat": 4,
 "nbformat_minor": 2
}
